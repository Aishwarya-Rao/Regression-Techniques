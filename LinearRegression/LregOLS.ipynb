{
 "cells": [
  {
   "cell_type": "markdown",
   "metadata": {},
   "source": [
    "Linear regression using OLS from scratch"
   ]
  },
  {
   "cell_type": "code",
   "execution_count": 55,
   "metadata": {},
   "outputs": [],
   "source": [
    "import matplotlib.pyplot as plt\n",
    "import statistics\n",
    "import numpy as np"
   ]
  },
  {
   "cell_type": "code",
   "execution_count": 56,
   "metadata": {},
   "outputs": [],
   "source": [
    "y_actual=np.array([10,12,22,12,20,21,23,26,34,49])\n",
    "X=np.array([3,4,6,4,5,12,8,7,9,10])"
   ]
  },
  {
   "cell_type": "code",
   "execution_count": 57,
   "metadata": {},
   "outputs": [],
   "source": [
    "def LinearRegScratch(x,y_actual):\n",
    "    m,c=0,0\n",
    "    num,deno=0,0\n",
    "    x_mean=statistics.mean(x)\n",
    "    y_mean=statistics.mean(y_actual)\n",
    "    num=sum(x*y_actual-y_mean*x)\n",
    "    deno=sum(x**2-x_mean*x)\n",
    "    m=num/deno\n",
    "    c=y_mean-m*x_mean\n",
    "    return m,c        "
   ]
  },
  {
   "cell_type": "code",
   "execution_count": 66,
   "metadata": {},
   "outputs": [],
   "source": [
    "def LinearRegScratch2(x,y_actual):\n",
    "    m,c=0,0\n",
    "    num,deno=0,0\n",
    "    x_mean=statistics.mean(x)\n",
    "    y_mean=statistics.mean(y_actual)\n",
    "    num=(-y_mean*sum(x)+sum(x*y_actual))\n",
    "    deno=sum(x**2)-x_mean*sum(x)\n",
    "    m=(num/deno)\n",
    "    c=y_mean-(m*x_mean)\n",
    "    return m,c  "
   ]
  },
  {
   "cell_type": "code",
   "execution_count": 67,
   "metadata": {},
   "outputs": [
    {
     "name": "stdout",
     "output_type": "stream",
     "text": [
      "2.090909090909091 9.454545454545455\n",
      "2.090909090909091 9.454545454545455\n"
     ]
    }
   ],
   "source": [
    "m,c=LinearRegScratch(X,y_actual)\n",
    "print(m,c)\n",
    "m,c=LinearRegScratch2(X,y_actual)\n",
    "print(m,c)\n",
    "# 2.090909090909091 9.454545454545455"
   ]
  },
  {
   "cell_type": "code",
   "execution_count": 53,
   "metadata": {},
   "outputs": [
    {
     "name": "stdout",
     "output_type": "stream",
     "text": [
      "45.288455766113685\n"
     ]
    }
   ],
   "source": [
    "y_pred=[]\n",
    "rss=0\n",
    "tss=0\n",
    "for i in range(len(X)):\n",
    "    y_pred.append(m*X[i]+c)\n",
    "    rss=rss+(y_pred[i]-y_actual[i])**2\n",
    "    tss=tss+(y_actual[i]-statistics.mean(y_actual))**2\n",
    "r2=1-(rss/tss)\n",
    "print(r2*100)"
   ]
  },
  {
   "cell_type": "code",
   "execution_count": 54,
   "metadata": {},
   "outputs": [
    {
     "data": {
      "image/png": "[encoded data removed]",
      "text/plain": [
       "<Figure size 640x480 with 1 Axes>"
      ]
     },
     "metadata": {},
     "output_type": "display_data"
    }
   ],
   "source": [
    "plt.plot(X,y_pred)\n",
    "plt.scatter(X,y_actual)\n",
    "plt.show()"
   ]
  },
  {
   "cell_type": "markdown",
   "metadata": {},
   "source": [
    "plt.plot(X,y_pred)\n",
    "plt.scatter(X,y_actual)\n",
    "plt.show()"
   ]
  },
  {
   "cell_type": "markdown",
   "metadata": {},
   "source": [
    "Linear regression using statsmodel (OLS)"
   ]
  },
  {
   "cell_type": "code",
   "execution_count": 20,
   "metadata": {},
   "outputs": [
    {
     "name": "stdout",
     "output_type": "stream",
     "text": [
      "                            OLS Regression Results                            \n",
      "==============================================================================\n",
      "Dep. Variable:                      y   R-squared:                       0.483\n",
      "Model:                            OLS   Adj. R-squared:                  0.418\n",
      "Method:                 Least Squares   F-statistic:                     7.475\n",
      "Date:                Mon, 27 Nov 2023   Prob (F-statistic):             0.0257\n",
      "Time:                        17:02:42   Log-Likelihood:                -34.955\n",
      "No. Observations:                  10   AIC:                             73.91\n",
      "Df Residuals:                       8   BIC:                             74.52\n",
      "Df Model:                           1                                         \n",
      "Covariance Type:            nonrobust                                         \n",
      "==============================================================================\n",
      "                 coef    std err          t      P>|t|      [0.025      0.975]\n",
      "------------------------------------------------------------------------------\n",
      "const          4.0773      7.440      0.548      0.599     -13.079      21.233\n",
      "x1             2.7680      1.012      2.734      0.026       0.433       5.103\n",
      "==============================================================================\n",
      "Omnibus:                        3.018   Durbin-Watson:                   1.203\n",
      "Prob(Omnibus):                  0.221   Jarque-Bera (JB):                0.421\n",
      "Skew:                           0.166   Prob(JB):                        0.810\n",
      "Kurtosis:                       3.949   Cond. No.                         19.7\n",
      "==============================================================================\n",
      "\n",
      "Notes:\n",
      "[1] Standard Errors assume that the covariance matrix of the errors is correctly specified.\n"
     ]
    },
    {
     "name": "stderr",
     "output_type": "stream",
     "text": [
      "c:\\Users\\arao86\\AppData\\Local\\Programs\\Python\\Python312\\Lib\\site-packages\\scipy\\stats\\_stats_py.py:1806: UserWarning: kurtosistest only valid for n>=20 ... continuing anyway, n=10\n",
      "  warnings.warn(\"kurtosistest only valid for n>=20 ... continuing \"\n"
     ]
    }
   ],
   "source": [
    "import statsmodels.api as sm\n",
    "x = sm.add_constant(X)\n",
    "result = sm.OLS(y_actual, x).fit()\n",
    "print(result.summary())"
   ]
  },
  {
   "cell_type": "code",
   "execution_count": 23,
   "metadata": {},
   "outputs": [],
   "source": [
    "m=2.7680\n",
    "c=4.0773 \n",
    "y_pred=[]\n",
    "for i in range(len(X)):\n",
    "    y_pred.append(m*X[i]+c)"
   ]
  },
  {
   "cell_type": "code",
   "execution_count": 24,
   "metadata": {},
   "outputs": [
    {
     "data": {
      "image/png": "[encoded data removed]",
      "text/plain": [
       "<Figure size 640x480 with 1 Axes>"
      ]
     },
     "metadata": {},
     "output_type": "display_data"
    }
   ],
   "source": [
    "plt.plot(X,y_pred)\n",
    "plt.scatter(X,y_actual)\n",
    "plt.show()"
   ]
  },
  {
   "cell_type": "code",
   "execution_count": null,
   "metadata": {},
   "outputs": [],
   "source": []
  },
  {
   "cell_type": "code",
   "execution_count": null,
   "metadata": {},
   "outputs": [],
   "source": []
  }
 ],
 "metadata": {
  "kernelspec": {
   "display_name": "Python 3",
   "language": "python",
   "name": "python3"
  },
  "language_info": {
   "codemirror_mode": {
    "name": "ipython",
    "version": 3
   },
   "file_extension": ".py",
   "mimetype": "text/x-python",
   "name": "python",
   "nbconvert_exporter": "python",
   "pygments_lexer": "ipython3",
   "version": "3.12.0"
  }
 },
 "nbformat": 4,
 "nbformat_minor": 2
}
